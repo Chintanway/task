{
 "cells": [
  {
   "cell_type": "code",
   "execution_count": 56,
   "id": "3a2b3a7e",
   "metadata": {},
   "outputs": [
    {
     "name": "stdout",
     "output_type": "stream",
     "text": [
      "[1, 2, 3, 4, 5, 6]\n"
     ]
    }
   ],
   "source": [
    "#1\n",
    "# 1: Input:\n",
    "#  Input:\n",
    "#  list1 = [1,2,3]\n",
    "#  list2 = [4,5,6]\n",
    "#  Output:\n",
    "#  [1,2,3,4,5,6]\n",
    "\n",
    "list1 = [1,2,3]\n",
    "list2 = [4,5,6]\n",
    "\n",
    "a1=list1+list2\n",
    "\n",
    "print(a1)"
   ]
  },
  {
   "cell_type": "code",
   "execution_count": null,
   "id": "5f60bbb4",
   "metadata": {},
   "outputs": [],
   "source": [
    "#2\n",
    "#  Input:\n",
    "#  list1 = [1,2,3]\n",
    "#  list2 = [4,5,6]\n",
    "#  Output:\n",
    "#  [1,4,2,5,3,6]\n",
    "\n",
    "list1 = [1, 2, 3]\n",
    "list2 = [4, 5, 6]\n",
    "v1 = sum(zip(list1, list2), ())\n",
    "v1 = list(v1)\n",
    "print(v1)"
   ]
  },
  {
   "cell_type": "code",
   "execution_count": 76,
   "id": "056f8a9a",
   "metadata": {},
   "outputs": [
    {
     "name": "stdout",
     "output_type": "stream",
     "text": [
      "{1: 2, 3: 4, 5: 6}\n"
     ]
    }
   ],
   "source": [
    "#3\n",
    "# Input:\n",
    "#  list1 = [1,2,3]\n",
    "#  list2 = [4,5,6]\n",
    "#  Output:\n",
    "#  {1:2,3:4,5:6}\n",
    "list1 = [1, 2, 3]\n",
    "list2 = [4, 5, 6]\n",
    "\n",
    "\n",
    "a1=list1+list2\n",
    "\n",
    "def Convert(a1):\n",
    "    res_dct = {a1[i]: a1[i + 1] for i in range(0, len(all1), 2)}\n",
    "    return res_dct\n",
    "print(Convert(a1))\n",
    "\n",
    "\n"
   ]
  },
  {
   "cell_type": "code",
   "execution_count": null,
   "id": "c9bf8743",
   "metadata": {},
   "outputs": [],
   "source": []
  },
  {
   "cell_type": "code",
   "execution_count": null,
   "id": "55bcdf53",
   "metadata": {},
   "outputs": [],
   "source": [
    " #4\n",
    "# Input:\n",
    "#  list1 = [1,2,3]\n",
    "#  list2 = [4,5,6]\n",
    "#  Output:\n",
    "#  [1,2,3,[4,5,6]]\n",
    "\n",
    "list1 = [1,2,3]\n",
    "list2 = [4,5,6]\n",
    "\n",
    "list1.append(list2)\n",
    "print(list1)"
   ]
  },
  {
   "cell_type": "code",
   "execution_count": null,
   "id": "5ffb1d35",
   "metadata": {},
   "outputs": [],
   "source": [
    "#5\n",
    "# Input:\n",
    "#  list1 = [1,2,3]\n",
    "#  list2 = [4,5,6]\n",
    "#  Output:\n",
    "#  [[1,2,3],[4,5,6]]\n",
    " \n",
    "list1 = [1,2,3]\n",
    "list2 = [4,5,6]\n",
    "app1=[list1,list2]\n",
    "\n",
    "print(app1)"
   ]
  },
  {
   "cell_type": "code",
   "execution_count": null,
   "id": "d28ec707",
   "metadata": {},
   "outputs": [],
   "source": [
    "#6\n",
    "a1 = {\"Name\": \"John\", \"Age\": 29, \"salary\": 25000, \"Company\": \"GOOGLE\"}\n",
    "a1[\"Designation\"] = \"Engineer\"\n",
    "\n",
    "print(a1)"
   ]
  },
  {
   "cell_type": "code",
   "execution_count": null,
   "id": "bcef90aa",
   "metadata": {},
   "outputs": [],
   "source": [
    "#7\n",
    "a1 = {\"Name\": \"John\", \"Age\": 29, \"salary\": 25000, \"Company\": \"GOOGLE\", \"Designation\": \"Engineer\"}\n",
    "\n",
    "var1 = list(a1.keys())\n",
    "var2 = list(a1.values())\n",
    "\n",
    "print(var1)\n",
    "print(var2)"
   ]
  },
  {
   "cell_type": "code",
   "execution_count": null,
   "id": "9c7241ce",
   "metadata": {},
   "outputs": [],
   "source": [
    "#8\n",
    "a1 = {\"Name\": \"John\", \"Age\": 29, \"salary\": 25000, \"Company\": \"GOOGLE\", \"Designation\": \"Engineer\"}\n",
    "\n",
    "if a1[\"salary\"] > 25000:\n",
    "    a1[\"salary\"] = 50000\n",
    "    a1[\"Designation\"] = \"Manager\"\n",
    "\n",
    "print(a1)"
   ]
  },
  {
   "cell_type": "code",
   "execution_count": null,
   "id": "81ae67d6",
   "metadata": {},
   "outputs": [],
   "source": [
    "#9\n",
    "app1 = {\"Name\": \"John\", \"Age\": 29, \"salary\": 25000, \"Company\": \"GOOGLE\", \"Designation\": \"Engineer\"}\n",
    "del app1[\"Company\"]\n",
    "print(app1)\n"
   ]
  },
  {
   "cell_type": "code",
   "execution_count": null,
   "id": "2a2b2b62",
   "metadata": {},
   "outputs": [],
   "source": [
    "#10\n",
    "#10.\n",
    "#Input:\n",
    "#data = {\"Name\": \"John\", \"Age\": 29, \"salary\":25000,\"Company\":\"GOOGLE\",\"Designation\":\"Engineer\"}\n",
    "#Output:\n",
    "#TRUE/FALSE (On the basis of salary more than 25,000 or not. If Salary more than 25,000 then change Destination to Manager)\n",
    "#(If True, Output will be {\"Name\": \"John\", \"Age\": 29, \"salary\":50000,\"Company\":\"GOOGLE\",\"Designation\":\"Manager\"})\n",
    "\n",
    "var1 = {\"Name\": \"John\", \"Age\": 29, \"salary\": 28000, \"Company\": \"GOOGLE\", \"Designation\": \"Engineer\"}\n",
    "\n",
    "if var1[\"salary\"] > 25000:\n",
    "    var1[\"salary\"] = 50000\n",
    "    var1[\"Designation\"] = \"Manager\"\n",
    "    result = True\n",
    "else:\n",
    "    result = False\n",
    "\n",
    "print(result)\n",
    "print(var1)"
   ]
  },
  {
   "cell_type": "code",
   "execution_count": null,
   "id": "abb016c8",
   "metadata": {},
   "outputs": [],
   "source": []
  },
  {
   "cell_type": "code",
   "execution_count": 83,
   "id": "aea3c3d5",
   "metadata": {},
   "outputs": [],
   "source": []
  },
  {
   "cell_type": "code",
   "execution_count": 85,
   "id": "55bc0536",
   "metadata": {},
   "outputs": [],
   "source": [
    "\n",
    "list1 = [1,2,3]\n",
    "list2 = [4,5,6]\n",
    "\n",
    "a1=list1+list2\n"
   ]
  },
  {
   "cell_type": "code",
   "execution_count": 88,
   "id": "2c371c40",
   "metadata": {},
   "outputs": [
    {
     "name": "stdout",
     "output_type": "stream",
     "text": [
      "{'a': 2, 'b': 4, 'c': 6}\n"
     ]
    }
   ],
   "source": [
    "a1 = ['a', 2, 'b', 4, 'c', 6]\n",
    "\n",
    "result = {}\n",
    "for i in range(0, len(a1), 2):\n",
    "    if i+1 < len(a1):\n",
    "        result[a1[i]] = a1[i+1]\n",
    " \n",
    "print(result)"
   ]
  },
  {
   "cell_type": "code",
   "execution_count": null,
   "id": "094e1bef",
   "metadata": {},
   "outputs": [],
   "source": []
  },
  {
   "cell_type": "code",
   "execution_count": null,
   "id": "51630624",
   "metadata": {},
   "outputs": [],
   "source": []
  },
  {
   "cell_type": "code",
   "execution_count": null,
   "id": "f699d98a",
   "metadata": {},
   "outputs": [],
   "source": []
  },
  {
   "cell_type": "code",
   "execution_count": null,
   "id": "4ad01c54",
   "metadata": {},
   "outputs": [],
   "source": []
  },
  {
   "cell_type": "code",
   "execution_count": null,
   "id": "d0e999ea",
   "metadata": {},
   "outputs": [],
   "source": []
  },
  {
   "cell_type": "code",
   "execution_count": null,
   "id": "3dbcf5b1",
   "metadata": {},
   "outputs": [],
   "source": []
  }
 ],
 "metadata": {
  "kernelspec": {
   "display_name": "Python 3 (ipykernel)",
   "language": "python",
   "name": "python3"
  },
  "language_info": {
   "codemirror_mode": {
    "name": "ipython",
    "version": 3
   },
   "file_extension": ".py",
   "mimetype": "text/x-python",
   "name": "python",
   "nbconvert_exporter": "python",
   "pygments_lexer": "ipython3",
   "version": "3.10.4"
  }
 },
 "nbformat": 4,
 "nbformat_minor": 5
}
